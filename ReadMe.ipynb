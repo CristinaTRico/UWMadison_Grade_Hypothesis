{
 "cells": [
  {
   "cell_type": "markdown",
   "metadata": {},
   "source": [
    "# Read Me"
   ]
  },
  {
   "cell_type": "markdown",
   "metadata": {},
   "source": [
    "The focus of this project was determine the following:\n",
    "* Does time of day have a statistically significant correlation with number of A's earned in courses?\n",
    "* Are STEM courses statistically signifcant for # of A's given during Morning courses?\n",
    "\n",
    "In approaching the above questions the following were also considered and examined:\n",
    "* Are STEM classes equally distributed over morning and evening classes?\n",
    "* Is there a relationship between time of day and if the course is STEM or not?\n",
    "* Are STEM courses statistically signifcant for # of A's given during Morning courses?\n"
   ]
  },
  {
   "cell_type": "markdown",
   "metadata": {},
   "source": [
    "## File Summary \n",
    "#### Data.zip\n",
    "Contains data used in this project\n",
    "* Course_Offerings.csv\n",
    "* Grad_Distributions.csv\n",
    "* Schedules.csv\n",
    "* Sections.csv\n",
    "\n",
    "#### Time_of_day\n",
    "* Importing and combining data through appropriate mergs and joins\n",
    "* Check data for normality \n",
    "* Purposeful EDA\n",
    "* Question 1: Does time of day have a statistically significant correlation with number of A's earned in courses?\n",
    "* Question 2: Are STEM classes equally distributed over morning and evening classes?\n",
    "* Question 3: Is there a relationship between time of day and if the course is STEM or not?\n",
    "* Question 4: Do STEM fields have a statistically significant difference in the number of A's earned compared to the humanities?\n",
    "* Questions 5: Are STEM courses statistically signifcant for # of A's given during Morning courses?\n",
    "\n",
    "#### UWMadisonPresntation\n",
    "\n",
    "Final powerpoint presentation showing difference in distribution, hypothesis tests and results. \n"
   ]
  }
 ],
 "metadata": {
  "kernelspec": {
   "display_name": "Python 3",
   "language": "python",
   "name": "python3"
  },
  "language_info": {
   "codemirror_mode": {
    "name": "ipython",
    "version": 3
   },
   "file_extension": ".py",
   "mimetype": "text/x-python",
   "name": "python",
   "nbconvert_exporter": "python",
   "pygments_lexer": "ipython3",
   "version": "3.7.3"
  }
 },
 "nbformat": 4,
 "nbformat_minor": 4
}
